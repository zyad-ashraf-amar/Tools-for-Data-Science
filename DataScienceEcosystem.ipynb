{
 "cells": [
  {
   "cell_type": "markdown",
   "id": "33b36dcf-623c-4b1b-be11-0c763c433c44",
   "metadata": {
    "tags": []
   },
   "source": [
    "Exercise 2: Create markdown cell with title of the notebook\n",
    "\n",
    "# Data Science Tools and Ecosystem"
   ]
  },
  {
   "cell_type": "markdown",
   "id": "bdd645f7-5349-44d9-86a2-ecfe28ca1025",
   "metadata": {},
   "source": [
    "Exercise 3 - Create a markdown cell for an introduction\n",
    "\n",
    "## Introduction\n",
    "In this notebook, Data Science Tools and Ecosystem are summarized."
   ]
  },
  {
   "cell_type": "markdown",
   "id": "bdca6bd4-6bb8-4d6c-bf99-3aebce49fee5",
   "metadata": {
    "tags": []
   },
   "source": [
    "Exercise 4 - Create a markdown cell to list data science languages\n",
    "\n",
    "## Popular Data Science Languages\n",
    "Some of the popular languages that Data Scientists use are:\n",
    "1. **Python**\n",
    "2. **R**\n",
    "3. **Julia**\n",
    "4. **SQL**\n",
    "5. **Scala**"
   ]
  },
  {
   "cell_type": "markdown",
   "id": "7e6f3e1d-7bc1-412e-a0a6-992c2b070905",
   "metadata": {},
   "source": [
    "Exercise 5 - Create a markdown cell to list data science libraries\n",
    "\n",
    "## Commonly Used Data Science Libraries\n",
    "Some of the commonly used libraries used by Data Scientists include:\n",
    "## Python\n",
    "- **NumPy**\n",
    "- **Pandas**\n",
    "- **Matplotlib**\n",
    "- **TensorFlow**\n",
    "- **PyTorch**\n",
    "## R\n",
    "- **ggplot2**\n",
    "- **dplyr**\n",
    "- **caret**\n",
    "## Julia\n",
    "- **DataFrames.jl**\n",
    "- **Plots.jl**\n",
    "## SQL\n",
    "- **SQLite**\n",
    "- **MySQL and PostgreSQL**\n",
    "- **Apache Hive**\n"
   ]
  },
  {
   "cell_type": "markdown",
   "id": "740ce983-bdfa-4e1e-9fc7-9584df68ab2e",
   "metadata": {},
   "source": [
    "Exercise 6 - Create a markdown cell with a table of Data Science tools\n",
    "\n",
    "## Data Science Tools\n",
    "\n",
    "| Development Environment Tools |\n",
    "| ----------------------------- |\n",
    "| Jupyter Notebook              |\n",
    "| RStudio                       |\n",
    "| VSCode with Python extension  |\n"
   ]
  },
  {
   "cell_type": "markdown",
   "id": "ee150f1a-e345-4e44-9e13-e9ad57ca93c0",
   "metadata": {},
   "source": [
    "Exercise 7 - Create a markdown cell introducing arithmetic expression examples\n",
    "\n",
    "### Below are a few examples of evaluating arithmetic expressions in Python"
   ]
  },
  {
   "cell_type": "code",
   "execution_count": 4,
   "id": "5dd2bc61-95b8-402a-a4fa-c4bd05fa8104",
   "metadata": {
    "tags": []
   },
   "outputs": [
    {
     "name": "stdout",
     "output_type": "stream",
     "text": [
      "8\n",
      "6\n",
      "42\n",
      "5.0\n"
     ]
    }
   ],
   "source": [
    "#Addition\n",
    "result_addition = 5 + 3\n",
    "print(result_addition)\n",
    "\n",
    "#Subtraction\n",
    "result_subtraction = 10 - 4\n",
    "print(result_subtraction)\n",
    "\n",
    "#Multiplication\n",
    "result_multiplication = 6 * 7\n",
    "print(result_multiplication)\n",
    "\n",
    "#Division\n",
    "result_division = 15 / 3\n",
    "print(result_division)"
   ]
  },
  {
   "cell_type": "markdown",
   "id": "234a94f0-f217-4d18-8bf1-87cf5ba4c8b7",
   "metadata": {},
   "source": [
    "Exercise 8 - Create a code cell to multiply and add numbers"
   ]
  },
  {
   "cell_type": "code",
   "execution_count": 5,
   "id": "c88f68af-5035-41ad-aaf3-0f9e75158839",
   "metadata": {
    "tags": []
   },
   "outputs": [
    {
     "name": "stdout",
     "output_type": "stream",
     "text": [
      "17\n"
     ]
    }
   ],
   "source": [
    "# This is a simple arithmetic expression to multiply then add integers.\n",
    "result = (3 * 4) + 5\n",
    "print(result)"
   ]
  },
  {
   "cell_type": "markdown",
   "id": "0668447c-468b-434e-b8f0-2068d8a4317b",
   "metadata": {},
   "source": [
    "Exercise 9 - Create a code cell to convert minutes to hours"
   ]
  },
  {
   "cell_type": "code",
   "execution_count": 6,
   "id": "b63d6d8c-83d7-4a26-8a8a-abe5d6de257c",
   "metadata": {
    "tags": []
   },
   "outputs": [
    {
     "name": "stdout",
     "output_type": "stream",
     "text": [
      "3.3333333333333335\n"
     ]
    }
   ],
   "source": [
    "# This will convert 200 minutes to hours by dividing by 60.\n",
    "minutes = 200\n",
    "hours = minutes / 60\n",
    "print(hours)"
   ]
  },
  {
   "cell_type": "markdown",
   "id": "95688361-d463-4085-b4d6-5a585dec7853",
   "metadata": {},
   "source": [
    "Exercise 10 - Insert a markdown cell to list Objectives\n",
    "\n",
    "## Objectives:\n",
    "\n",
    "- Explore popular programming languages used in Data Science.\n",
    "- Identify commonly used libraries in Python, R, and other languages for Data Science tasks.\n",
    "- Introduce key development environment tools like Jupyter Notebooks, RStudio, and VS Code with Python.\n",
    "- Demonstrate examples of evaluating arithmetic expressions in Python.\n",
    "- Showcase practical applications, such as converting minutes to hours.\n"
   ]
  },
  {
   "cell_type": "markdown",
   "id": "88956b7a-a8e6-4829-8a2f-15f880d94140",
   "metadata": {},
   "source": [
    "Exercise 11 - Create a markdown cell to indicate the Author's name\n",
    "\n",
    "## Author:\n",
    "\n",
    "Zyad Ashraf\n"
   ]
  },
  {
   "cell_type": "code",
   "execution_count": null,
   "id": "67294e6a-23ab-4dcc-b1d2-848ced7e9af6",
   "metadata": {},
   "outputs": [],
   "source": []
  }
 ],
 "metadata": {
  "kernelspec": {
   "display_name": "Python 3 (ipykernel)",
   "language": "python",
   "name": "python3"
  },
  "language_info": {
   "codemirror_mode": {
    "name": "ipython",
    "version": 3
   },
   "file_extension": ".py",
   "mimetype": "text/x-python",
   "name": "python",
   "nbconvert_exporter": "python",
   "pygments_lexer": "ipython3",
   "version": "3.11.6"
  }
 },
 "nbformat": 4,
 "nbformat_minor": 5
}
